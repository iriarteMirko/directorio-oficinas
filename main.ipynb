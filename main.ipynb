{
 "cells": [
  {
   "cell_type": "code",
   "execution_count": 1,
   "metadata": {},
   "outputs": [],
   "source": [
    "import pandas as pd\n",
    "import warnings\n",
    "\n",
    "warnings.filterwarnings(\"ignore\")"
   ]
  },
  {
   "cell_type": "code",
   "execution_count": 2,
   "metadata": {},
   "outputs": [],
   "source": [
    "df_directorio = pd.read_excel(\"DIRECTORIO DE OFICINAS.xlsx\")\n",
    "df_base = pd.read_excel(\"BASE CORREOS.xlsx\")"
   ]
  },
  {
   "cell_type": "code",
   "execution_count": 3,
   "metadata": {},
   "outputs": [
    {
     "data": {
      "text/html": [
       "<div>\n",
       "<style scoped>\n",
       "    .dataframe tbody tr th:only-of-type {\n",
       "        vertical-align: middle;\n",
       "    }\n",
       "\n",
       "    .dataframe tbody tr th {\n",
       "        vertical-align: top;\n",
       "    }\n",
       "\n",
       "    .dataframe thead th {\n",
       "        text-align: right;\n",
       "    }\n",
       "</style>\n",
       "<table border=\"1\" class=\"dataframe\">\n",
       "  <thead>\n",
       "    <tr style=\"text-align: right;\">\n",
       "      <th></th>\n",
       "      <th>Registro</th>\n",
       "      <th>Nombre</th>\n",
       "      <th>Correo</th>\n",
       "      <th>Puesto</th>\n",
       "      <th>División</th>\n",
       "      <th>ID Oficina</th>\n",
       "      <th>Nombre Oficina</th>\n",
       "    </tr>\n",
       "  </thead>\n",
       "  <tbody>\n",
       "    <tr>\n",
       "      <th>0</th>\n",
       "      <td>P015072</td>\n",
       "      <td>GANOZA HONORES, NATALIE ELIZABETH</td>\n",
       "      <td>NGANOZA@BBVA.COM</td>\n",
       "      <td>(B417)SUB GERENTE DE OFICINA F</td>\n",
       "      <td>DIVISION MIRAFLORES</td>\n",
       "      <td>564</td>\n",
       "      <td>OFICINA PLAZA BUTTERS</td>\n",
       "    </tr>\n",
       "    <tr>\n",
       "      <th>1</th>\n",
       "      <td>P016944</td>\n",
       "      <td>QUISPE MAMANI, LUZ MERI</td>\n",
       "      <td>LMQUISPE@BBVA.COM</td>\n",
       "      <td>(B217)GERENTE DE OFICINA F</td>\n",
       "      <td>DIVISION SUR</td>\n",
       "      <td>763</td>\n",
       "      <td>OFICINA PEDREGAL</td>\n",
       "    </tr>\n",
       "    <tr>\n",
       "      <th>2</th>\n",
       "      <td>P016949</td>\n",
       "      <td>TORRES PAREDES, GUISSEL PIERANGELY</td>\n",
       "      <td>GUISSELPIERANGELY.TORRES@BBVA.COM</td>\n",
       "      <td>(B252)EJECUTIVO BANCA NEGOCIOS 3</td>\n",
       "      <td>DIVISION SUR</td>\n",
       "      <td>763</td>\n",
       "      <td>OFICINA PEDREGAL</td>\n",
       "    </tr>\n",
       "  </tbody>\n",
       "</table>\n",
       "</div>"
      ],
      "text/plain": [
       "  Registro                              Nombre  \\\n",
       "0  P015072   GANOZA HONORES, NATALIE ELIZABETH   \n",
       "1  P016944             QUISPE MAMANI, LUZ MERI   \n",
       "2  P016949  TORRES PAREDES, GUISSEL PIERANGELY   \n",
       "\n",
       "                              Correo                            Puesto  \\\n",
       "0                   NGANOZA@BBVA.COM    (B417)SUB GERENTE DE OFICINA F   \n",
       "1                  LMQUISPE@BBVA.COM        (B217)GERENTE DE OFICINA F   \n",
       "2  GUISSELPIERANGELY.TORRES@BBVA.COM  (B252)EJECUTIVO BANCA NEGOCIOS 3   \n",
       "\n",
       "              División  ID Oficina         Nombre Oficina  \n",
       "0  DIVISION MIRAFLORES         564  OFICINA PLAZA BUTTERS  \n",
       "1         DIVISION SUR         763       OFICINA PEDREGAL  \n",
       "2         DIVISION SUR         763       OFICINA PEDREGAL  "
      ]
     },
     "execution_count": 3,
     "metadata": {},
     "output_type": "execute_result"
    }
   ],
   "source": [
    "df_directorio.head(3)"
   ]
  },
  {
   "cell_type": "code",
   "execution_count": 4,
   "metadata": {},
   "outputs": [
    {
     "data": {
      "text/html": [
       "<div>\n",
       "<style scoped>\n",
       "    .dataframe tbody tr th:only-of-type {\n",
       "        vertical-align: middle;\n",
       "    }\n",
       "\n",
       "    .dataframe tbody tr th {\n",
       "        vertical-align: top;\n",
       "    }\n",
       "\n",
       "    .dataframe thead th {\n",
       "        text-align: right;\n",
       "    }\n",
       "</style>\n",
       "<table border=\"1\" class=\"dataframe\">\n",
       "  <thead>\n",
       "    <tr style=\"text-align: right;\">\n",
       "      <th></th>\n",
       "      <th>OFICINA</th>\n",
       "      <th>CORREOS</th>\n",
       "      <th>Territorio</th>\n",
       "      <th>Nombre Oficina</th>\n",
       "      <th>Cargo</th>\n",
       "      <th>Registro</th>\n",
       "      <th>Nombre</th>\n",
       "    </tr>\n",
       "  </thead>\n",
       "  <tbody>\n",
       "    <tr>\n",
       "      <th>0</th>\n",
       "      <td>2</td>\n",
       "      <td>teyzaguirre@bbva.com, dmalaga@bbva.com, eyttus...</td>\n",
       "      <td>GT CALLAO SAN MIGUEL</td>\n",
       "      <td>OFICINA PANDO</td>\n",
       "      <td>GERENTE DE OFICINA</td>\n",
       "      <td>P015142</td>\n",
       "      <td>EYZAGUIRRE GONZALES, TATIANA</td>\n",
       "    </tr>\n",
       "    <tr>\n",
       "      <th>1</th>\n",
       "      <td>5</td>\n",
       "      <td>GCASTROP@BBVA.COM, buzon-procesal-sin-garantia...</td>\n",
       "      <td>GT NORTE CHICO</td>\n",
       "      <td>OFICINA MEGAPLAZA CHIMBOTE</td>\n",
       "      <td>GERENTE DE OFICINA</td>\n",
       "      <td>P011496</td>\n",
       "      <td>CASTRO PAZ, GALBA</td>\n",
       "    </tr>\n",
       "    <tr>\n",
       "      <th>2</th>\n",
       "      <td>10</td>\n",
       "      <td>evivas@bbva.com, richard.ordaya@bbva.com, paul...</td>\n",
       "      <td>GT CENTRO</td>\n",
       "      <td>OFICINA ANDAHUAYLAS</td>\n",
       "      <td>GERENTE DE OFICINA</td>\n",
       "      <td>P013079</td>\n",
       "      <td>VILLEGAS HUAMANI, NELLA</td>\n",
       "    </tr>\n",
       "  </tbody>\n",
       "</table>\n",
       "</div>"
      ],
      "text/plain": [
       "   OFICINA                                            CORREOS  \\\n",
       "0        2  teyzaguirre@bbva.com, dmalaga@bbva.com, eyttus...   \n",
       "1        5  GCASTROP@BBVA.COM, buzon-procesal-sin-garantia...   \n",
       "2       10  evivas@bbva.com, richard.ordaya@bbva.com, paul...   \n",
       "\n",
       "             Territorio              Nombre Oficina               Cargo  \\\n",
       "0  GT CALLAO SAN MIGUEL               OFICINA PANDO  GERENTE DE OFICINA   \n",
       "1        GT NORTE CHICO  OFICINA MEGAPLAZA CHIMBOTE  GERENTE DE OFICINA   \n",
       "2             GT CENTRO         OFICINA ANDAHUAYLAS  GERENTE DE OFICINA   \n",
       "\n",
       "  Registro                        Nombre  \n",
       "0  P015142  EYZAGUIRRE GONZALES, TATIANA  \n",
       "1  P011496             CASTRO PAZ, GALBA  \n",
       "2  P013079       VILLEGAS HUAMANI, NELLA  "
      ]
     },
     "execution_count": 4,
     "metadata": {},
     "output_type": "execute_result"
    }
   ],
   "source": [
    "df_base.drop(df_base.columns[-1], axis=1, inplace=True)\n",
    "df_base.head(3)"
   ]
  },
  {
   "cell_type": "code",
   "execution_count": 5,
   "metadata": {},
   "outputs": [
    {
     "name": "stdout",
     "output_type": "stream",
     "text": [
      "df_directorio:  (2944, 7)\n",
      "df_base:  (333, 7)\n"
     ]
    }
   ],
   "source": [
    "print('df_directorio: ', df_directorio.shape)\n",
    "print('df_base: ', df_base.shape)"
   ]
  },
  {
   "cell_type": "code",
   "execution_count": 6,
   "metadata": {},
   "outputs": [
    {
     "data": {
      "text/plain": [
       "Registro          179\n",
       "Nombre            179\n",
       "Correo            181\n",
       "Puesto              0\n",
       "División            0\n",
       "ID Oficina          0\n",
       "Nombre Oficina    179\n",
       "dtype: int64"
      ]
     },
     "execution_count": 6,
     "metadata": {},
     "output_type": "execute_result"
    }
   ],
   "source": [
    "df_directorio.isna().sum()"
   ]
  },
  {
   "cell_type": "code",
   "execution_count": 7,
   "metadata": {},
   "outputs": [
    {
     "data": {
      "text/plain": [
       "OFICINA           0\n",
       "CORREOS           0\n",
       "Territorio        1\n",
       "Nombre Oficina    1\n",
       "Cargo             1\n",
       "Registro          1\n",
       "Nombre            0\n",
       "dtype: int64"
      ]
     },
     "execution_count": 7,
     "metadata": {},
     "output_type": "execute_result"
    }
   ],
   "source": [
    "df_base.isna().sum()"
   ]
  },
  {
   "cell_type": "code",
   "execution_count": 8,
   "metadata": {},
   "outputs": [
    {
     "name": "stdout",
     "output_type": "stream",
     "text": [
      "df_directorio:  (2763, 7)\n",
      "df_base:  (332, 7)\n"
     ]
    }
   ],
   "source": [
    "df_directorio.dropna(inplace=True)\n",
    "df_base.dropna(inplace=True)\n",
    "\n",
    "print('df_directorio: ', df_directorio.shape)\n",
    "print('df_base: ', df_base.shape)"
   ]
  },
  {
   "cell_type": "code",
   "execution_count": 9,
   "metadata": {},
   "outputs": [
    {
     "data": {
      "text/html": [
       "<div>\n",
       "<style scoped>\n",
       "    .dataframe tbody tr th:only-of-type {\n",
       "        vertical-align: middle;\n",
       "    }\n",
       "\n",
       "    .dataframe tbody tr th {\n",
       "        vertical-align: top;\n",
       "    }\n",
       "\n",
       "    .dataframe thead th {\n",
       "        text-align: right;\n",
       "    }\n",
       "</style>\n",
       "<table border=\"1\" class=\"dataframe\">\n",
       "  <thead>\n",
       "    <tr style=\"text-align: right;\">\n",
       "      <th></th>\n",
       "      <th>OFICINA</th>\n",
       "      <th>Puesto</th>\n",
       "      <th>Correo</th>\n",
       "    </tr>\n",
       "  </thead>\n",
       "  <tbody>\n",
       "    <tr>\n",
       "      <th>0</th>\n",
       "      <td>2</td>\n",
       "      <td>(B321)ASESOR SERV JORNADA COMPLET 2</td>\n",
       "      <td>ALEXA.SIALER@BBVA.COM</td>\n",
       "    </tr>\n",
       "    <tr>\n",
       "      <th>1</th>\n",
       "      <td>2</td>\n",
       "      <td>(B252)EJECUTIVO BANCA NEGOCIOS 3</td>\n",
       "      <td>EYTTUSACA@BBVA.COM</td>\n",
       "    </tr>\n",
       "    <tr>\n",
       "      <th>2</th>\n",
       "      <td>2</td>\n",
       "      <td>(B217)GERENTE DE OFICINA F</td>\n",
       "      <td>TEYZAGUIRRE@BBVA.COM</td>\n",
       "    </tr>\n",
       "  </tbody>\n",
       "</table>\n",
       "</div>"
      ],
      "text/plain": [
       "   OFICINA                               Puesto                 Correo\n",
       "0        2  (B321)ASESOR SERV JORNADA COMPLET 2  ALEXA.SIALER@BBVA.COM\n",
       "1        2     (B252)EJECUTIVO BANCA NEGOCIOS 3     EYTTUSACA@BBVA.COM\n",
       "2        2           (B217)GERENTE DE OFICINA F   TEYZAGUIRRE@BBVA.COM"
      ]
     },
     "execution_count": 9,
     "metadata": {},
     "output_type": "execute_result"
    }
   ],
   "source": [
    "columnas_directorio = ['ID Oficina', 'Puesto', 'Correo']\n",
    "df_directorio = df_directorio[columnas_directorio]\n",
    "df_directorio.rename(columns={'ID Oficina': 'OFICINA'}, inplace=True)\n",
    "df_directorio.sort_values(by='OFICINA', inplace=True, ignore_index=True)\n",
    "df_directorio.reset_index(drop=True, inplace=True)\n",
    "df_directorio.head(3)"
   ]
  },
  {
   "cell_type": "code",
   "execution_count": 10,
   "metadata": {},
   "outputs": [
    {
     "data": {
      "text/html": [
       "<div>\n",
       "<style scoped>\n",
       "    .dataframe tbody tr th:only-of-type {\n",
       "        vertical-align: middle;\n",
       "    }\n",
       "\n",
       "    .dataframe tbody tr th {\n",
       "        vertical-align: top;\n",
       "    }\n",
       "\n",
       "    .dataframe thead th {\n",
       "        text-align: right;\n",
       "    }\n",
       "</style>\n",
       "<table border=\"1\" class=\"dataframe\">\n",
       "  <thead>\n",
       "    <tr style=\"text-align: right;\">\n",
       "      <th></th>\n",
       "      <th>OFICINA</th>\n",
       "      <th>Puesto</th>\n",
       "      <th>Correo</th>\n",
       "    </tr>\n",
       "  </thead>\n",
       "  <tbody>\n",
       "    <tr>\n",
       "      <th>0</th>\n",
       "      <td>2</td>\n",
       "      <td>(B217)GERENTE DE OFICINA F</td>\n",
       "      <td>TEYZAGUIRRE@BBVA.COM</td>\n",
       "    </tr>\n",
       "    <tr>\n",
       "      <th>1</th>\n",
       "      <td>2</td>\n",
       "      <td>(B417)SUB GERENTE DE OFICINA F</td>\n",
       "      <td>DMALAGA@BBVA.COM</td>\n",
       "    </tr>\n",
       "    <tr>\n",
       "      <th>2</th>\n",
       "      <td>5</td>\n",
       "      <td>(B417)SUB GERENTE DE OFICINA F</td>\n",
       "      <td>KGALVEZ@BBVA.COM</td>\n",
       "    </tr>\n",
       "  </tbody>\n",
       "</table>\n",
       "</div>"
      ],
      "text/plain": [
       "   OFICINA                          Puesto                Correo\n",
       "0        2      (B217)GERENTE DE OFICINA F  TEYZAGUIRRE@BBVA.COM\n",
       "1        2  (B417)SUB GERENTE DE OFICINA F      DMALAGA@BBVA.COM\n",
       "2        5  (B417)SUB GERENTE DE OFICINA F      KGALVEZ@BBVA.COM"
      ]
     },
     "execution_count": 10,
     "metadata": {},
     "output_type": "execute_result"
    }
   ],
   "source": [
    "df_directorio = df_directorio[df_directorio['Puesto'].str.contains('GERENTE', case=False)].reset_index(drop=True)\n",
    "df_directorio.head(3)"
   ]
  },
  {
   "cell_type": "code",
   "execution_count": 11,
   "metadata": {},
   "outputs": [
    {
     "name": "stdout",
     "output_type": "stream",
     "text": [
      "(289, 3)\n"
     ]
    },
    {
     "data": {
      "text/html": [
       "<div>\n",
       "<style scoped>\n",
       "    .dataframe tbody tr th:only-of-type {\n",
       "        vertical-align: middle;\n",
       "    }\n",
       "\n",
       "    .dataframe tbody tr th {\n",
       "        vertical-align: top;\n",
       "    }\n",
       "\n",
       "    .dataframe thead th {\n",
       "        text-align: right;\n",
       "    }\n",
       "</style>\n",
       "<table border=\"1\" class=\"dataframe\">\n",
       "  <thead>\n",
       "    <tr style=\"text-align: right;\">\n",
       "      <th></th>\n",
       "      <th>OFICINA</th>\n",
       "      <th>Puesto</th>\n",
       "      <th>Correo</th>\n",
       "    </tr>\n",
       "  </thead>\n",
       "  <tbody>\n",
       "    <tr>\n",
       "      <th>0</th>\n",
       "      <td>2</td>\n",
       "      <td>GERENTE DE OFICINA</td>\n",
       "      <td>TEYZAGUIRRE@BBVA.COM, DMALAGA@BBVA.COM</td>\n",
       "    </tr>\n",
       "    <tr>\n",
       "      <th>1</th>\n",
       "      <td>5</td>\n",
       "      <td>GERENTE DE OFICINA</td>\n",
       "      <td>JVEGAC@BBVA.COM, KGALVEZ@BBVA.COM</td>\n",
       "    </tr>\n",
       "    <tr>\n",
       "      <th>2</th>\n",
       "      <td>10</td>\n",
       "      <td>GERENTE DE OFICINA</td>\n",
       "      <td>EVIVAS@BBVA.COM, RICHARD.ORDAYA@BBVA.COM</td>\n",
       "    </tr>\n",
       "  </tbody>\n",
       "</table>\n",
       "</div>"
      ],
      "text/plain": [
       "   OFICINA              Puesto                                    Correo\n",
       "0        2  GERENTE DE OFICINA    TEYZAGUIRRE@BBVA.COM, DMALAGA@BBVA.COM\n",
       "1        5  GERENTE DE OFICINA         JVEGAC@BBVA.COM, KGALVEZ@BBVA.COM\n",
       "2       10  GERENTE DE OFICINA  EVIVAS@BBVA.COM, RICHARD.ORDAYA@BBVA.COM"
      ]
     },
     "execution_count": 11,
     "metadata": {},
     "output_type": "execute_result"
    }
   ],
   "source": [
    "def concatenar_correos(grupo: pd.DataFrame) -> pd.Series:\n",
    "    gerente_correo = grupo.loc[~grupo['Puesto'].str.contains('SUB GERENTE', case=False), 'Correo'].values\n",
    "    subgerente_correo = grupo.loc[grupo['Puesto'].str.contains('SUB GERENTE', case=False), 'Correo'].values\n",
    "    \n",
    "    if len(gerente_correo) > 0 and len(subgerente_correo) > 0:\n",
    "        correos_concatenados = gerente_correo[0] + ', ' + subgerente_correo[0]\n",
    "    elif len(gerente_correo) > 0:\n",
    "        correos_concatenados = gerente_correo[0]\n",
    "    else:\n",
    "        correos_concatenados = subgerente_correo[0]\n",
    "    \n",
    "    return pd.Series({\n",
    "        'OFICINA': grupo['OFICINA'].iloc[0],\n",
    "        'Puesto': 'GERENTE DE OFICINA',\n",
    "        'Correo': correos_concatenados,\n",
    "        })\n",
    "\n",
    "df_final = df_directorio.groupby('OFICINA').apply(concatenar_correos).reset_index(drop=True)\n",
    "\n",
    "print(df_final.shape)\n",
    "df_final.head(3)"
   ]
  },
  {
   "cell_type": "code",
   "execution_count": 12,
   "metadata": {},
   "outputs": [
    {
     "name": "stdout",
     "output_type": "stream",
     "text": [
      "(332, 9)\n"
     ]
    },
    {
     "data": {
      "text/html": [
       "<div>\n",
       "<style scoped>\n",
       "    .dataframe tbody tr th:only-of-type {\n",
       "        vertical-align: middle;\n",
       "    }\n",
       "\n",
       "    .dataframe tbody tr th {\n",
       "        vertical-align: top;\n",
       "    }\n",
       "\n",
       "    .dataframe thead th {\n",
       "        text-align: right;\n",
       "    }\n",
       "</style>\n",
       "<table border=\"1\" class=\"dataframe\">\n",
       "  <thead>\n",
       "    <tr style=\"text-align: right;\">\n",
       "      <th></th>\n",
       "      <th>OFICINA</th>\n",
       "      <th>CORREOS</th>\n",
       "      <th>Territorio</th>\n",
       "      <th>Nombre Oficina</th>\n",
       "      <th>Cargo</th>\n",
       "      <th>Registro</th>\n",
       "      <th>Nombre</th>\n",
       "      <th>Puesto</th>\n",
       "      <th>Correo</th>\n",
       "    </tr>\n",
       "  </thead>\n",
       "  <tbody>\n",
       "    <tr>\n",
       "      <th>0</th>\n",
       "      <td>2</td>\n",
       "      <td>teyzaguirre@bbva.com, dmalaga@bbva.com, eyttus...</td>\n",
       "      <td>GT CALLAO SAN MIGUEL</td>\n",
       "      <td>OFICINA PANDO</td>\n",
       "      <td>GERENTE DE OFICINA</td>\n",
       "      <td>P015142</td>\n",
       "      <td>EYZAGUIRRE GONZALES, TATIANA</td>\n",
       "      <td>GERENTE DE OFICINA</td>\n",
       "      <td>TEYZAGUIRRE@BBVA.COM, DMALAGA@BBVA.COM</td>\n",
       "    </tr>\n",
       "    <tr>\n",
       "      <th>1</th>\n",
       "      <td>5</td>\n",
       "      <td>GCASTROP@BBVA.COM, buzon-procesal-sin-garantia...</td>\n",
       "      <td>GT NORTE CHICO</td>\n",
       "      <td>OFICINA MEGAPLAZA CHIMBOTE</td>\n",
       "      <td>GERENTE DE OFICINA</td>\n",
       "      <td>P011496</td>\n",
       "      <td>CASTRO PAZ, GALBA</td>\n",
       "      <td>GERENTE DE OFICINA</td>\n",
       "      <td>JVEGAC@BBVA.COM, KGALVEZ@BBVA.COM</td>\n",
       "    </tr>\n",
       "    <tr>\n",
       "      <th>2</th>\n",
       "      <td>10</td>\n",
       "      <td>evivas@bbva.com, richard.ordaya@bbva.com, paul...</td>\n",
       "      <td>GT CENTRO</td>\n",
       "      <td>OFICINA ANDAHUAYLAS</td>\n",
       "      <td>GERENTE DE OFICINA</td>\n",
       "      <td>P013079</td>\n",
       "      <td>VILLEGAS HUAMANI, NELLA</td>\n",
       "      <td>GERENTE DE OFICINA</td>\n",
       "      <td>EVIVAS@BBVA.COM, RICHARD.ORDAYA@BBVA.COM</td>\n",
       "    </tr>\n",
       "  </tbody>\n",
       "</table>\n",
       "</div>"
      ],
      "text/plain": [
       "   OFICINA                                            CORREOS  \\\n",
       "0        2  teyzaguirre@bbva.com, dmalaga@bbva.com, eyttus...   \n",
       "1        5  GCASTROP@BBVA.COM, buzon-procesal-sin-garantia...   \n",
       "2       10  evivas@bbva.com, richard.ordaya@bbva.com, paul...   \n",
       "\n",
       "             Territorio              Nombre Oficina               Cargo  \\\n",
       "0  GT CALLAO SAN MIGUEL               OFICINA PANDO  GERENTE DE OFICINA   \n",
       "1        GT NORTE CHICO  OFICINA MEGAPLAZA CHIMBOTE  GERENTE DE OFICINA   \n",
       "2             GT CENTRO         OFICINA ANDAHUAYLAS  GERENTE DE OFICINA   \n",
       "\n",
       "  Registro                        Nombre              Puesto  \\\n",
       "0  P015142  EYZAGUIRRE GONZALES, TATIANA  GERENTE DE OFICINA   \n",
       "1  P011496             CASTRO PAZ, GALBA  GERENTE DE OFICINA   \n",
       "2  P013079       VILLEGAS HUAMANI, NELLA  GERENTE DE OFICINA   \n",
       "\n",
       "                                     Correo  \n",
       "0    TEYZAGUIRRE@BBVA.COM, DMALAGA@BBVA.COM  \n",
       "1         JVEGAC@BBVA.COM, KGALVEZ@BBVA.COM  \n",
       "2  EVIVAS@BBVA.COM, RICHARD.ORDAYA@BBVA.COM  "
      ]
     },
     "execution_count": 12,
     "metadata": {},
     "output_type": "execute_result"
    }
   ],
   "source": [
    "df_actualizado = pd.merge(df_base, df_final, on='OFICINA', how='left')\n",
    "print(df_actualizado.shape)\n",
    "df_actualizado.head(3)"
   ]
  },
  {
   "cell_type": "code",
   "execution_count": 13,
   "metadata": {},
   "outputs": [
    {
     "data": {
      "text/plain": [
       "OFICINA            0\n",
       "CORREOS            0\n",
       "Territorio         0\n",
       "Nombre Oficina     0\n",
       "Cargo              0\n",
       "Registro           0\n",
       "Nombre             0\n",
       "Puesto            52\n",
       "Correo            52\n",
       "dtype: int64"
      ]
     },
     "execution_count": 13,
     "metadata": {},
     "output_type": "execute_result"
    }
   ],
   "source": [
    "df_actualizado.isna().sum()"
   ]
  },
  {
   "cell_type": "code",
   "execution_count": 14,
   "metadata": {},
   "outputs": [
    {
     "name": "stdout",
     "output_type": "stream",
     "text": [
      "(332, 7)\n"
     ]
    },
    {
     "data": {
      "text/html": [
       "<div>\n",
       "<style scoped>\n",
       "    .dataframe tbody tr th:only-of-type {\n",
       "        vertical-align: middle;\n",
       "    }\n",
       "\n",
       "    .dataframe tbody tr th {\n",
       "        vertical-align: top;\n",
       "    }\n",
       "\n",
       "    .dataframe thead th {\n",
       "        text-align: right;\n",
       "    }\n",
       "</style>\n",
       "<table border=\"1\" class=\"dataframe\">\n",
       "  <thead>\n",
       "    <tr style=\"text-align: right;\">\n",
       "      <th></th>\n",
       "      <th>OFICINA</th>\n",
       "      <th>CORREOS</th>\n",
       "      <th>Territorio</th>\n",
       "      <th>Nombre Oficina</th>\n",
       "      <th>Cargo</th>\n",
       "      <th>Registro</th>\n",
       "      <th>Nombre</th>\n",
       "    </tr>\n",
       "  </thead>\n",
       "  <tbody>\n",
       "    <tr>\n",
       "      <th>0</th>\n",
       "      <td>2</td>\n",
       "      <td>teyzaguirre@bbva.com, dmalaga@bbva.com</td>\n",
       "      <td>GT CALLAO SAN MIGUEL</td>\n",
       "      <td>OFICINA PANDO</td>\n",
       "      <td>GERENTE DE OFICINA</td>\n",
       "      <td>P015142</td>\n",
       "      <td>EYZAGUIRRE GONZALES, TATIANA</td>\n",
       "    </tr>\n",
       "    <tr>\n",
       "      <th>1</th>\n",
       "      <td>5</td>\n",
       "      <td>jvegac@bbva.com, kgalvez@bbva.com</td>\n",
       "      <td>GT NORTE CHICO</td>\n",
       "      <td>OFICINA MEGAPLAZA CHIMBOTE</td>\n",
       "      <td>GERENTE DE OFICINA</td>\n",
       "      <td>P011496</td>\n",
       "      <td>CASTRO PAZ, GALBA</td>\n",
       "    </tr>\n",
       "    <tr>\n",
       "      <th>2</th>\n",
       "      <td>10</td>\n",
       "      <td>evivas@bbva.com, richard.ordaya@bbva.com</td>\n",
       "      <td>GT CENTRO</td>\n",
       "      <td>OFICINA ANDAHUAYLAS</td>\n",
       "      <td>GERENTE DE OFICINA</td>\n",
       "      <td>P013079</td>\n",
       "      <td>VILLEGAS HUAMANI, NELLA</td>\n",
       "    </tr>\n",
       "  </tbody>\n",
       "</table>\n",
       "</div>"
      ],
      "text/plain": [
       "   OFICINA                                   CORREOS            Territorio  \\\n",
       "0        2    teyzaguirre@bbva.com, dmalaga@bbva.com  GT CALLAO SAN MIGUEL   \n",
       "1        5         jvegac@bbva.com, kgalvez@bbva.com        GT NORTE CHICO   \n",
       "2       10  evivas@bbva.com, richard.ordaya@bbva.com             GT CENTRO   \n",
       "\n",
       "               Nombre Oficina               Cargo Registro  \\\n",
       "0               OFICINA PANDO  GERENTE DE OFICINA  P015142   \n",
       "1  OFICINA MEGAPLAZA CHIMBOTE  GERENTE DE OFICINA  P011496   \n",
       "2         OFICINA ANDAHUAYLAS  GERENTE DE OFICINA  P013079   \n",
       "\n",
       "                         Nombre  \n",
       "0  EYZAGUIRRE GONZALES, TATIANA  \n",
       "1             CASTRO PAZ, GALBA  \n",
       "2       VILLEGAS HUAMANI, NELLA  "
      ]
     },
     "execution_count": 14,
     "metadata": {},
     "output_type": "execute_result"
    }
   ],
   "source": [
    "df_actualizado['CORREOS'] = df_actualizado['Correo'].fillna(df_actualizado['CORREOS'])\n",
    "df_actualizado.drop(columns={'Puesto', 'Correo'}, inplace=True)\n",
    "df_actualizado['CORREOS'] = df_actualizado['CORREOS'].str.lower()\n",
    "print(df_actualizado.shape)\n",
    "df_actualizado.head(3)"
   ]
  },
  {
   "cell_type": "code",
   "execution_count": 15,
   "metadata": {},
   "outputs": [
    {
     "data": {
      "text/plain": [
       "OFICINA           0\n",
       "CORREOS           0\n",
       "Territorio        0\n",
       "Nombre Oficina    0\n",
       "Cargo             0\n",
       "Registro          0\n",
       "Nombre            0\n",
       "dtype: int64"
      ]
     },
     "execution_count": 15,
     "metadata": {},
     "output_type": "execute_result"
    }
   ],
   "source": [
    "df_actualizado.isna().sum()"
   ]
  },
  {
   "cell_type": "code",
   "execution_count": 16,
   "metadata": {},
   "outputs": [],
   "source": [
    "df_actualizado.to_excel('CORREOS.xlsx', index=False)"
   ]
  }
 ],
 "metadata": {
  "kernelspec": {
   "display_name": "Python 3",
   "language": "python",
   "name": "python3"
  },
  "language_info": {
   "codemirror_mode": {
    "name": "ipython",
    "version": 3
   },
   "file_extension": ".py",
   "mimetype": "text/x-python",
   "name": "python",
   "nbconvert_exporter": "python",
   "pygments_lexer": "ipython3",
   "version": "3.10.9"
  }
 },
 "nbformat": 4,
 "nbformat_minor": 2
}
